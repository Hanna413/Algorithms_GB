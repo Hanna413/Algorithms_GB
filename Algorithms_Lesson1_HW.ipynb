{
 "cells": [
  {
   "cell_type": "markdown",
   "id": "eebfdc5d",
   "metadata": {},
   "source": [
    "Урок 1. Алгоритм линейной регрессии. Градиентный спуск"
   ]
  },
  {
   "cell_type": "markdown",
   "id": "380467fd",
   "metadata": {},
   "source": [
    "1. Подберите скорость обучения (eta) и количество итераций"
   ]
  },
  {
   "cell_type": "code",
   "execution_count": 2,
   "id": "138f3dcc",
   "metadata": {},
   "outputs": [],
   "source": [
    "import numpy as np\n",
    "import warnings\n",
    "warnings.filterwarnings('ignore')"
   ]
  },
  {
   "cell_type": "code",
   "execution_count": 3,
   "id": "dff21cb2",
   "metadata": {},
   "outputs": [],
   "source": [
    "X = np.array([[ 1,  1],\n",
    "              [ 1,  1],\n",
    "              [ 1,  2],\n",
    "              [ 1,  5],\n",
    "              [ 1,  3],\n",
    "              [ 1,  0],\n",
    "              [ 1,  5],\n",
    "              [ 1, 10],\n",
    "              [ 1,  1],\n",
    "              [ 1,  2]])"
   ]
  },
  {
   "cell_type": "code",
   "execution_count": 6,
   "id": "97022000",
   "metadata": {},
   "outputs": [],
   "source": [
    "y = [45, 55, 50, 55, 60, 35, 75, 80, 50, 60]"
   ]
  },
  {
   "cell_type": "code",
   "execution_count": 4,
   "id": "d7b75719",
   "metadata": {},
   "outputs": [],
   "source": [
    "def calc_mse(y, y_pred):\n",
    "    err = np.mean((y - y_pred)**2)\n",
    "    return err"
   ]
  },
  {
   "cell_type": "code",
   "execution_count": 7,
   "id": "3a7c7229",
   "metadata": {},
   "outputs": [
    {
     "name": "stdout",
     "output_type": "stream",
     "text": [
      "Number of objects = 10        \n",
      "Learning rate = 0.01        \n",
      "Initial weights = [1.  0.5] \n",
      "\n",
      "Iteration #0: W_new = [2.08 4.27], MSE = 3047.75\n",
      "Iteration #10: W_new = [ 6.67106886 10.61676385], MSE = 749.71\n",
      "Iteration #20: W_new = [ 9.49320908 10.25731657], MSE = 648.91\n",
      "Iteration #30: W_new = [11.85740092  9.83349244], MSE = 570.46\n",
      "Iteration #40: W_new = [13.86876921  9.46898661], MSE = 508.03\n",
      "Iteration #50: W_new = [15.59085668  9.15672679], MSE = 457.73\n",
      "Iteration #60: W_new = [17.07337653  8.88789585], MSE = 416.77\n",
      "Iteration #70: W_new = [18.35601294  8.65530964], MSE = 383.06\n",
      "Iteration #80: W_new = [19.47073522  8.45317196], MSE = 355.08\n",
      "Iteration #90: W_new = [20.44350656  8.27677488], MSE = 331.65\n"
     ]
    }
   ],
   "source": [
    "n = X.shape[0]\n",
    "\n",
    "eta = 1e-2 \n",
    "n_iter = 100\n",
    "\n",
    "W = np.array([1, 0.5])\n",
    "print(f'Number of objects = {n} \\\n",
    "       \\nLearning rate = {eta} \\\n",
    "       \\nInitial weights = {W} \\n')\n",
    "\n",
    "for i in range(n_iter):\n",
    "    y_pred = np.dot(X, W)\n",
    "    err = calc_mse(y, y_pred)\n",
    "    for k in range(W.shape[0]):\n",
    "        W[k] -= eta * (1/n * 2 * X[:, k] @ (y_pred - y))\n",
    "    if i % 10 == 0:\n",
    "        eta /= 1.1\n",
    "        print(f'Iteration #{i}: W_new = {W}, MSE = {round(err, 2)}')"
   ]
  },
  {
   "cell_type": "markdown",
   "id": "3da5bc0c",
   "metadata": {},
   "source": [
    "Перебрать в цикле скорости обучения и количество итераций"
   ]
  },
  {
   "cell_type": "code",
   "execution_count": 9,
   "id": "2970b3c4",
   "metadata": {},
   "outputs": [
    {
     "name": "stdout",
     "output_type": "stream",
     "text": [
      "Лучшая ошибка 43.96875547099612 с параметрами {'eta': 0.1, 'n_iter': 1000}\n"
     ]
    }
   ],
   "source": [
    "n = X.shape[0]\n",
    "\n",
    "etas = [1e-1, 5e-2, 1e-2, 5e-3, 1e-3, 5e-4, 1e-4]\n",
    "n_iters = [10, 100, 250, 500, 800, 1000]\n",
    "\n",
    "best_error = np.inf\n",
    "best_params = {}\n",
    "\n",
    "\n",
    "for eta in etas:\n",
    "    for n_iter in n_iters:\n",
    "        W = np.array([1, 0.5])\n",
    "        curr_eta = eta\n",
    "        \n",
    "        for i in range(n_iter):\n",
    "            y_pred = np.dot(X, W)\n",
    "            err = calc_mse(y, y_pred)\n",
    "            for k in range(W.shape[0]):\n",
    "                W[k] -= curr_eta * (1/n * 2 * X[:, k] @ (y_pred - y))\n",
    "            if i % 10 == 0:\n",
    "                curr_eta /= 1.1\n",
    "#                 print(f'Iteration #{i}: W_new = {W}, MSE = {round(err, 2)}')\n",
    "                \n",
    "        if err < best_error:\n",
    "            best_error = err\n",
    "            best_params = {\n",
    "                'eta': eta,\n",
    "                'n_iter': n_iter\n",
    "            }\n",
    "print(f'Лучшая ошибка {best_error} с параметрами {best_params}')"
   ]
  },
  {
   "cell_type": "markdown",
   "id": "c7a417d9",
   "metadata": {},
   "source": [
    "2*. В этом коде мы избавляемся от итераций по весам, но тут есть ошибка, исправьте ее"
   ]
  },
  {
   "cell_type": "code",
   "execution_count": 10,
   "id": "be4e772a",
   "metadata": {},
   "outputs": [
    {
     "data": {
      "text/plain": [
       "((2, 10), 10)"
      ]
     },
     "execution_count": 10,
     "metadata": {},
     "output_type": "execute_result"
    }
   ],
   "source": [
    "(X.T).shape, len(y)"
   ]
  },
  {
   "cell_type": "code",
   "execution_count": 11,
   "id": "45b78b62",
   "metadata": {},
   "outputs": [
    {
     "name": "stdout",
     "output_type": "stream",
     "text": [
      "Number of objects = 10        \n",
      "Learning rate = 0.01        \n",
      "Initial weights = [1.  0.5] \n",
      "\n",
      "Iteration #0: W_new = [2.08 4.27], MSE = 3047.75\n",
      "Iteration #100: W_new = [28.38281518  6.83710367], MSE = 177.43\n",
      "Iteration #200: W_new = [38.38986469  5.02247953], MSE = 65.33\n",
      "Iteration #300: W_new = [42.39314129  4.29654705], MSE = 47.39\n",
      "Iteration #400: W_new = [43.99463466  4.00614091], MSE = 44.52\n",
      "Iteration #500: W_new = [44.63530512  3.8899652 ], MSE = 44.06\n",
      "Iteration #600: W_new = [44.89160255  3.84348962], MSE = 43.98\n"
     ]
    }
   ],
   "source": [
    "n = X.shape[0]\n",
    "\n",
    "eta = 1e-2\n",
    "n_iter = 700\n",
    "\n",
    "W = np.array([1, 0.5])\n",
    "print(f'Number of objects = {n} \\\n",
    "       \\nLearning rate = {eta} \\\n",
    "       \\nInitial weights = {W} \\n')\n",
    "\n",
    "for i in range(n_iter):\n",
    "    y_pred = np.dot(X, W)\n",
    "    err = calc_mse(y, y_pred)\n",
    "#     for k in range(W.shape[0]):\n",
    "#         W[k] -= eta * (1/n * 2 * X[:, k] @ (y_pred - y))\n",
    "\n",
    "    # ИЗМЕНЕНИЯ\n",
    "#     print(X.shape, (y_pred - y).shape)\n",
    "#     print(W.shape)\n",
    "    W -= eta * (1/n * 2 * np.dot(X.T, y_pred - y))\n",
    "    #\n",
    "    if i % 100 == 0:\n",
    "        print(f'Iteration #{i}: W_new = {W}, MSE = {round(err,2)}')"
   ]
  },
  {
   "cell_type": "code",
   "execution_count": null,
   "id": "aa94f991",
   "metadata": {},
   "outputs": [],
   "source": []
  }
 ],
 "metadata": {
  "kernelspec": {
   "display_name": "Python 3 (ipykernel)",
   "language": "python",
   "name": "python3"
  },
  "language_info": {
   "codemirror_mode": {
    "name": "ipython",
    "version": 3
   },
   "file_extension": ".py",
   "mimetype": "text/x-python",
   "name": "python",
   "nbconvert_exporter": "python",
   "pygments_lexer": "ipython3",
   "version": "3.9.13"
  }
 },
 "nbformat": 4,
 "nbformat_minor": 5
}
